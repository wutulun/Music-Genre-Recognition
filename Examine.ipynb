{
 "cells": [
  {
   "cell_type": "code",
   "execution_count": 1,
   "metadata": {
    "scrolled": true
   },
   "outputs": [
    {
     "name": "stderr",
     "output_type": "stream",
     "text": [
      "Using TensorFlow backend.\n"
     ]
    }
   ],
   "source": [
    "import numpy as np\n",
    "import pandas as pd\n",
    "from sklearn.preprocessing import LabelEncoder, StandardScaler\n",
    "from sklearn.model_selection import train_test_split\n",
    "\n",
    "from keras.models import Sequential\n",
    "from keras.layers import Dense\n",
    "from keras import regularizers\n",
    "\n",
    "from sklearn.decomposition import PCA\n",
    "\n",
    "import matplotlib.pyplot as plt\n",
    "%matplotlib inline\n",
    "\n",
    "\n",
    "# ignore 'More than 20 figure' warning and others\n",
    "import warnings\n",
    "warnings.filterwarnings('ignore')\n",
    "\n",
    "data = pd.read_csv('data.csv')\n",
    "\n",
    "genre_list = data.iloc[:, -1]\n",
    "encoder = LabelEncoder()\n",
    "y = encoder.fit_transform(genre_list)\n",
    "\n",
    "scaler = StandardScaler()\n",
    "X = scaler.fit_transform(np.array(data.iloc[:, 1:-1], dtype=float))\n"
   ]
  },
  {
   "cell_type": "markdown",
   "metadata": {},
   "source": [
    "# Regularization or not"
   ]
  },
  {
   "cell_type": "code",
   "execution_count": 2,
   "metadata": {
    "scrolled": true
   },
   "outputs": [],
   "source": [
    "def reg_plot(X, y, n):    \n",
    "    # n ---- The times of selecting different set to compare the function of regularization   \n",
    "    \n",
    "    Acc_no=[]\n",
    "    Acc_yes=[]\n",
    "    Judge=[]\n",
    "    for i in range(n):\n",
    "        \n",
    "        X_train, X_test, y_train, y_test = train_test_split(X, y, test_size=0.2)     \n",
    "        \n",
    "        # No regularization\n",
    "        model = Sequential()\n",
    "        model.add(Dense(256, activation='relu', input_shape=(X_train.shape[1],)))\n",
    "        model.add(Dense(128, activation='relu'))\n",
    "        model.add(Dense(10, activation='softmax')) \n",
    "        model.compile(optimizer='adam',\n",
    "                     loss='sparse_categorical_crossentropy', \n",
    "                     metrics=['accuracy'])\n",
    "        history = model.fit(X_train, \n",
    "                y_train, \n",
    "                epochs=20,\n",
    "                batch_size=128,\n",
    "                verbose=0)\n",
    "        loss, acc1 = model.evaluate(X_test, y_test, verbose=0)\n",
    "        Acc_no.append(acc1)\n",
    "        \n",
    "        # With regularization\n",
    "        model = Sequential()\n",
    "        model.add(Dense(256, activation='relu', input_shape=(X_train.shape[1],)))\n",
    "        model.add(Dense(128, activation='relu', kernel_regularizer=regularizers.l2(0.01)))\n",
    "        model.add(Dense(10, activation='softmax')) \n",
    "        model.compile(optimizer='adam',\n",
    "                     loss='sparse_categorical_crossentropy', \n",
    "                     metrics=['accuracy'])\n",
    "        history = model.fit(X_train, \n",
    "                y_train, \n",
    "                epochs=20,\n",
    "                batch_size=128,\n",
    "                verbose=0)        \n",
    "        loss, acc2 = model.evaluate(X_test, y_test, verbose=0)\n",
    "        Acc_yes.append(acc2)\n",
    "        \n",
    "        if acc1<acc2:\n",
    "            Judge.append('yes')\n",
    "        else:\n",
    "            Judge.append('no')\n",
    "        \n",
    "        \n",
    "    # plotting\n",
    "    table = {\n",
    "    'Acc_no': Acc_no,\n",
    "    'Acc_yes': Acc_yes,  \n",
    "    'Reg or not': Judge\n",
    "    }\n",
    "    \n",
    "    df = pd.DataFrame(table)\n",
    "    \n",
    "    print(df)"
   ]
  },
  {
   "cell_type": "code",
   "execution_count": 12,
   "metadata": {
    "scrolled": false
   },
   "outputs": [
    {
     "name": "stdout",
     "output_type": "stream",
     "text": [
      "     Acc_no   Acc_yes Reg or not\n",
      "0  0.676647  0.634731         no\n",
      "1  0.694611  0.688623         no\n",
      "2  0.652695  0.634731         no\n",
      "3  0.712575  0.658683         no\n",
      "4  0.682635  0.658683         no\n",
      "5  0.676647  0.664671         no\n",
      "6  0.676647  0.658683         no\n",
      "7  0.688623  0.664671         no\n",
      "8  0.676647  0.640719         no\n",
      "9  0.670659  0.664671         no\n"
     ]
    }
   ],
   "source": [
    "reg_plot(X, y, 10)"
   ]
  },
  {
   "cell_type": "markdown",
   "metadata": {},
   "source": [
    "# Validation or not"
   ]
  },
  {
   "cell_type": "code",
   "execution_count": 9,
   "metadata": {},
   "outputs": [],
   "source": [
    "def val_plot(X, y, n):\n",
    "    \n",
    "    Acc_no=[]\n",
    "    Acc_yes=[]\n",
    "    Judge=[]\n",
    "    for i in range(n):\n",
    "        \n",
    "        X_train, X_test, y_train, y_test = train_test_split(X, y, test_size=0.2)\n",
    "        \n",
    "        # No validation\n",
    "        model = Sequential()\n",
    "        model.add(Dense(256, activation='relu', input_shape=(X_train.shape[1],)))\n",
    "        model.add(Dense(128, activation='relu'))\n",
    "        model.add(Dense(10, activation='softmax')) \n",
    "        model.compile(optimizer='adam',\n",
    "                     loss='sparse_categorical_crossentropy', \n",
    "                     metrics=['accuracy'])\n",
    "        history = model.fit(X_train, \n",
    "                y_train, \n",
    "                epochs=200,\n",
    "                batch_size=128,\n",
    "                verbose=0)\n",
    "        loss, acc1 = model.evaluate(X_test, y_test, verbose=0)\n",
    "        Acc_no.append(acc1)\n",
    "        \n",
    "        # With validation\n",
    "        model = Sequential()\n",
    "        model.add(Dense(256, activation='relu', input_shape=(X_train.shape[1],)))\n",
    "        model.add(Dense(128, activation='relu'))\n",
    "        model.add(Dense(10, activation='softmax')) \n",
    "        model.compile(optimizer='adam',\n",
    "                     loss='sparse_categorical_crossentropy', \n",
    "                     metrics=['accuracy'])\n",
    "        history = model.fit(X_train, \n",
    "                y_train, \n",
    "                epochs=200,\n",
    "                batch_size=128,\n",
    "                validation_split=0.2,\n",
    "                verbose=0)\n",
    "        loss, acc2 = model.evaluate(X_test, y_test, verbose=0)\n",
    "        Acc_yes.append(acc2)\n",
    "         \n",
    "        if acc1<acc2:\n",
    "            Judge.append('yes')\n",
    "        else:\n",
    "            Judge.append('no')\n",
    "        \n",
    "        \n",
    "    # plotting\n",
    "    table = {\n",
    "    'Acc_no': Acc_no,\n",
    "    'Acc_yes': Acc_yes,  \n",
    "    'Val or not': Judge\n",
    "    }\n",
    "\n",
    "    df = pd.DataFrame(table)\n",
    "\n",
    "    print(df)       "
   ]
  },
  {
   "cell_type": "code",
   "execution_count": 10,
   "metadata": {
    "scrolled": true
   },
   "outputs": [
    {
     "name": "stdout",
     "output_type": "stream",
     "text": [
      "     Acc_no   Acc_yes Val or not\n",
      "0  0.736527  0.700599         no\n",
      "1  0.700599  0.676647         no\n",
      "2  0.580838  0.580838         no\n",
      "3  0.706587  0.682635         no\n",
      "4  0.664671  0.664671         no\n",
      "5  0.730539  0.712575         no\n",
      "6  0.640719  0.706587        yes\n",
      "7  0.688623  0.670659         no\n",
      "8  0.616766  0.586826         no\n",
      "9  0.652695  0.640719         no\n"
     ]
    }
   ],
   "source": [
    "val_plot(X, y, 10)"
   ]
  },
  {
   "cell_type": "markdown",
   "metadata": {},
   "source": [
    "# PCA or not"
   ]
  },
  {
   "cell_type": "code",
   "execution_count": 6,
   "metadata": {},
   "outputs": [],
   "source": [
    "def pca_plot(X, y, n):\n",
    "    \n",
    "    Acc_no=[]\n",
    "    Acc_yes=[]\n",
    "    Judge=[]\n",
    "    for i in range(n):\n",
    "        \n",
    "        X_train, X_test, y_train, y_test = train_test_split(X, y, test_size=0.2)\n",
    "        \n",
    "        # No pca\n",
    "        model = Sequential()\n",
    "        model.add(Dense(256, activation='relu', input_shape=(X_train.shape[1],)))\n",
    "        model.add(Dense(128, activation='relu'))\n",
    "        model.add(Dense(10, activation='softmax')) \n",
    "        model.compile(optimizer='adam',\n",
    "                     loss='sparse_categorical_crossentropy', \n",
    "                     metrics=['accuracy'])\n",
    "        history = model.fit(X_train, \n",
    "                y_train, \n",
    "                epochs=100,\n",
    "                batch_size=128,\n",
    "                verbose=0)\n",
    "        loss, acc1 = model.evaluate(X_test, y_test, verbose=0)\n",
    "        Acc_no.append(acc1)\n",
    "        \n",
    "        # With pca\n",
    "        pca = PCA()\n",
    "        pca.fit(X)\n",
    "        pca_data = pca.transform(X)        \n",
    "        model = Sequential()\n",
    "        model.add(Dense(256, activation='relu', input_shape=(X_train.shape[1],)))\n",
    "        model.add(Dense(128, activation='relu'))\n",
    "        model.add(Dense(10, activation='softmax')) \n",
    "        model.compile(optimizer='adam',\n",
    "                     loss='sparse_categorical_crossentropy', \n",
    "                     metrics=['accuracy'])\n",
    "        history = model.fit(X_train, \n",
    "                y_train, \n",
    "                epochs=100,\n",
    "                batch_size=128,\n",
    "                verbose=0)\n",
    "        loss, acc2 = model.evaluate(X_test, y_test, verbose=0)\n",
    "        Acc_yes.append(acc2)\n",
    "        \n",
    "        if acc1<acc2:\n",
    "            Judge.append('yes')\n",
    "        else:\n",
    "            Judge.append('no')\n",
    "        \n",
    "        \n",
    "    # plotting\n",
    "    table = {\n",
    "    'Acc_no': Acc_no,\n",
    "    'Acc_yes': Acc_yes,  \n",
    "    'pca or not': Judge\n",
    "    }\n",
    "\n",
    "    df = pd.DataFrame(table)\n",
    "\n",
    "    print(df)       "
   ]
  },
  {
   "cell_type": "code",
   "execution_count": 5,
   "metadata": {},
   "outputs": [
    {
     "name": "stdout",
     "output_type": "stream",
     "text": [
      "     Acc_no   Acc_yes pca or not\n",
      "0  0.712575  0.712575         no\n",
      "1  0.694611  0.694611         no\n",
      "2  0.676647  0.664671         no\n",
      "3  0.694611  0.688623         no\n",
      "4  0.712575  0.730539        yes\n",
      "5  0.664671  0.670659        yes\n",
      "6  0.640719  0.628743         no\n",
      "7  0.640719  0.640719         no\n",
      "8  0.718563  0.700599         no\n",
      "9  0.622755  0.652695        yes\n"
     ]
    }
   ],
   "source": [
    "pca_plot(X, y, 10)"
   ]
  },
  {
   "cell_type": "code",
   "execution_count": 10,
   "metadata": {},
   "outputs": [
    {
     "name": "stdout",
     "output_type": "stream",
     "text": [
      "Model: \"sequential_43\"\n",
      "_________________________________________________________________\n",
      "Layer (type)                 Output Shape              Param #   \n",
      "=================================================================\n",
      "input_5 (InputLayer)         (None, 224, 224, 3)       0         \n",
      "_________________________________________________________________\n",
      "block1_conv1 (Conv2D)        (None, 224, 224, 64)      1792      \n",
      "_________________________________________________________________\n",
      "block1_conv2 (Conv2D)        (None, 224, 224, 64)      36928     \n",
      "_________________________________________________________________\n",
      "block1_pool (MaxPooling2D)   (None, 112, 112, 64)      0         \n",
      "_________________________________________________________________\n",
      "block2_conv1 (Conv2D)        (None, 112, 112, 128)     73856     \n",
      "_________________________________________________________________\n",
      "block2_conv2 (Conv2D)        (None, 112, 112, 128)     147584    \n",
      "_________________________________________________________________\n",
      "block2_pool (MaxPooling2D)   (None, 56, 56, 128)       0         \n",
      "_________________________________________________________________\n",
      "block3_conv1 (Conv2D)        (None, 56, 56, 256)       295168    \n",
      "_________________________________________________________________\n",
      "block3_conv2 (Conv2D)        (None, 56, 56, 256)       590080    \n",
      "_________________________________________________________________\n",
      "block3_conv3 (Conv2D)        (None, 56, 56, 256)       590080    \n",
      "_________________________________________________________________\n",
      "block3_pool (MaxPooling2D)   (None, 28, 28, 256)       0         \n",
      "_________________________________________________________________\n",
      "block4_conv1 (Conv2D)        (None, 28, 28, 512)       1180160   \n",
      "_________________________________________________________________\n",
      "block4_conv2 (Conv2D)        (None, 28, 28, 512)       2359808   \n",
      "_________________________________________________________________\n",
      "block4_conv3 (Conv2D)        (None, 28, 28, 512)       2359808   \n",
      "_________________________________________________________________\n",
      "block4_pool (MaxPooling2D)   (None, 14, 14, 512)       0         \n",
      "_________________________________________________________________\n",
      "block5_conv1 (Conv2D)        (None, 14, 14, 512)       2359808   \n",
      "_________________________________________________________________\n",
      "block5_conv2 (Conv2D)        (None, 14, 14, 512)       2359808   \n",
      "_________________________________________________________________\n",
      "block5_conv3 (Conv2D)        (None, 14, 14, 512)       2359808   \n",
      "_________________________________________________________________\n",
      "block5_pool (MaxPooling2D)   (None, 7, 7, 512)         0         \n",
      "_________________________________________________________________\n",
      "flatten (Flatten)            (None, 25088)             0         \n",
      "_________________________________________________________________\n",
      "fc1 (Dense)                  (None, 4096)              102764544 \n",
      "_________________________________________________________________\n",
      "fc2 (Dense)                  (None, 4096)              16781312  \n",
      "_________________________________________________________________\n",
      "dense_121 (Dense)            (None, 10)                40970     \n",
      "=================================================================\n",
      "Total params: 134,301,514\n",
      "Trainable params: 40,970\n",
      "Non-trainable params: 134,260,544\n",
      "_________________________________________________________________\n"
     ]
    }
   ],
   "source": [
    "import ssl\n",
    "ssl._create_default_https_context = ssl._create_unverified_context  # cancle verification\n",
    "\n",
    "from keras.applications.vgg16 import VGG16\n",
    "\n",
    "vgg16_model = VGG16()\n",
    "vgg16_model.layers.pop()\n",
    "\n",
    "from keras.layers import InputLayer\n",
    "\n",
    "new_model = Sequential()\n",
    "new_model.add(InputLayer(input_shape=(224,224,3)))\n",
    "\n",
    "for layer in vgg16_model.layers:\n",
    "  new_model.add(layer)\n",
    "\n",
    "for layer in new_model.layers:\n",
    "  layer.trainable=False\n",
    "\n",
    "new_model.add(Dense(10, activation='softmax'))\n",
    "\n",
    "new_model.summary()"
   ]
  }
 ],
 "metadata": {
  "kernelspec": {
   "display_name": "Python 3",
   "language": "python",
   "name": "python3"
  },
  "language_info": {
   "codemirror_mode": {
    "name": "ipython",
    "version": 3
   },
   "file_extension": ".py",
   "mimetype": "text/x-python",
   "name": "python",
   "nbconvert_exporter": "python",
   "pygments_lexer": "ipython3",
   "version": "3.7.4"
  }
 },
 "nbformat": 4,
 "nbformat_minor": 2
}
