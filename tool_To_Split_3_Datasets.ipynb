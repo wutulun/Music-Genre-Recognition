{
 "cells": [
  {
   "cell_type": "code",
   "execution_count": 1,
   "metadata": {},
   "outputs": [
    {
     "data": {
      "text/plain": [
       "'data/train'"
      ]
     },
     "execution_count": 1,
     "metadata": {},
     "output_type": "execute_result"
    }
   ],
   "source": [
    "from pathlib import Path\n",
    "import os\n",
    "import shutil\n",
    "\n",
    "genres = 'blues classical country disco hiphop jazz metal pop reggae rock'.split()\n",
    "for g in genres:\n",
    "    # Start from blues \n",
    "    img_loc = f'./data_img/{g}'\n",
    "    \n",
    "    # First, testing set\n",
    "    Path(f'./data/test/{g}').mkdir(parents=True, exist_ok=True)        \n",
    "    i = 0\n",
    "    for filename in os.listdir(img_loc):\n",
    "        i += 1\n",
    "        song_loc = f'{img_loc}/{filename}'\n",
    "        target = f'./data/test/{g}/{filename}'\n",
    "        shutil.move(song_loc, target)\n",
    "        if i==10:                                                      # Move 10 data to testing set\n",
    "            break\n",
    "                  \n",
    "os.rename('data_img', 'train')                 # Finally, use all left(60 for each class)\n",
    "shutil.move('train', 'data')                    # as training data"
   ]
  }
 ],
 "metadata": {
  "kernelspec": {
   "display_name": "Python 3",
   "language": "python",
   "name": "python3"
  },
  "language_info": {
   "codemirror_mode": {
    "name": "ipython",
    "version": 3
   },
   "file_extension": ".py",
   "mimetype": "text/x-python",
   "name": "python",
   "nbconvert_exporter": "python",
   "pygments_lexer": "ipython3",
   "version": "3.7.4"
  }
 },
 "nbformat": 4,
 "nbformat_minor": 2
}
